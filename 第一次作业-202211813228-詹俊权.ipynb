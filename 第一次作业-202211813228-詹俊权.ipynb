{
 "cells": [
  {
   "cell_type": "code",
   "execution_count": 1,
   "id": "18754d74",
   "metadata": {
    "scrolled": false
   },
   "outputs": [
    {
     "name": "stdout",
     "output_type": "stream",
     "text": [
      "请输入学生姓名：123\n",
      "请输入入学年份：123\n",
      "请输入学生爱好：123\n",
      "我是123，是一名广东海洋大学交通运输专业123的一名学生，我的兴趣爱好是123。\n"
     ]
    }
   ],
   "source": [
    "stu_name = input('请输入学生姓名：')\n",
    "register_year = input('请输入入学年份：')\n",
    "stu_hobby = input('请输入学生爱好：')\n",
    "print('我是%s，是一名广东海洋大学交通运输专业%s的一名学生，我的兴趣爱好是%s。'%(stu_name, register_year, stu_hobby))"
   ]
  }
 ],
 "metadata": {
  "kernelspec": {
   "display_name": "Python 3 (ipykernel)",
   "language": "python",
   "name": "python3"
  },
  "language_info": {
   "codemirror_mode": {
    "name": "ipython",
    "version": 3
   },
   "file_extension": ".py",
   "mimetype": "text/x-python",
   "name": "python",
   "nbconvert_exporter": "python",
   "pygments_lexer": "ipython3",
   "version": "3.10.9"
  }
 },
 "nbformat": 4,
 "nbformat_minor": 5
}
