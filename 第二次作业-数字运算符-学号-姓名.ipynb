{
 "cells": [
  {
   "cell_type": "markdown",
   "id": "c88c4230",
   "metadata": {},
   "source": [
    "Author: Junquan Zhan\n",
    "\n",
    "Version: 1.0\n",
    "\n",
    "DATA: 2023/9/15"
   ]
  },
  {
   "cell_type": "markdown",
   "id": "0c6d1cf8",
   "metadata": {},
   "source": [
    "### 课后作业二###\n",
    "\n",
    "保存为：第二次作业-数字运算符-学号-姓名.ipynb\n",
    "\n",
    "1、编写程序：化整为零\n",
    "\n",
    "功能要求：输入一个五位数放入变量x中，求出该数的个位数、十位数和百位数，千位，万位。"
   ]
  },
  {
   "cell_type": "code",
   "execution_count": 1,
   "id": "a6372206",
   "metadata": {},
   "outputs": [
    {
     "name": "stdout",
     "output_type": "stream",
     "text": [
      "请输入一个五位数53721\n",
      "个位数为5，十位数为3,百位为7,千位为2,万位为1\n"
     ]
    }
   ],
   "source": [
    "# 输入一个五位数得到个位数、十位数和百位数，千位，万位\n",
    "\n",
    "while True:\n",
    "    num = input('请输入一个五位数') # 获取输入数字\n",
    "    if len(num) == 5:\n",
    "        gewei = num[0]                  # 得到个位数\n",
    "        shiwei = num[1]                 # 得到十位数     \n",
    "        baiwei = num[2]                 # 得到百位数\n",
    "        qianwei = num[3]                # 得到千位数\n",
    "        wanwei = num[4]                 # 得到万位数\n",
    "\n",
    "        print(f'个位数为{gewei}，十位数为{shiwei},百位为{baiwei},千位为{qianwei},万位为{wanwei}') # 输出结果\n",
    "        break\n",
    "    else:\n",
    "        print('数据异常，请重新输入！')"
   ]
  },
  {
   "cell_type": "code",
   "execution_count": 3,
   "id": "aec6adf9",
   "metadata": {},
   "outputs": [
    {
     "name": "stdout",
     "output_type": "stream",
     "text": [
      "请输入一个五位数24531\n",
      "个位数为1,十位数为3,百位为5,千位为4,万位为2\n"
     ]
    }
   ],
   "source": [
    "while True:\n",
    "    num = input('请输入一个五位数')\n",
    "    if len(num) == 5 :\n",
    "        num =int(num)\n",
    "        gewei = num % 10                     # 得到个位数\n",
    "        shiwei = int(num /10 % 10)           # 得到十位数     \n",
    "        baiwei = int(num /100 % 10)          # 得到百位数\n",
    "        qianwei = int(num / 1000 % 10)       # 得到千位数\n",
    "        wanwei = num // 10000                # 得到万位数\n",
    "\n",
    "        print(f'个位数为{gewei},十位数为{shiwei},百位为{baiwei},千位为{qianwei},万位为{wanwei}') # 输出结果\n",
    "        break\n",
    "    else:\n",
    "        print('数据异常，请重新输入！')\n",
    "        "
   ]
  },
  {
   "cell_type": "markdown",
   "id": "7497c72c",
   "metadata": {},
   "source": [
    "2、编写程序：学生信息系统\n",
    "\n",
    "功能要求：收集学生个人信息{姓名，出生年月日}，并形成学生自我介绍：我是[姓名]，我今年[几]岁，我的生日是[几]月[几]号）\n",
    "\n",
    "备注：需要使用datetime模块获取年份，并通过出生年份计算当前的年纪：岁数=当前年份-出生年份"
   ]
  },
  {
   "cell_type": "code",
   "execution_count": 4,
   "id": "9b725bd7",
   "metadata": {},
   "outputs": [
    {
     "name": "stdout",
     "output_type": "stream",
     "text": [
      "请输入姓名zj\n",
      "请输入出生日期\n",
      "请输入出生年份:2003\n",
      "请输入出生月份:1\n",
      "请输入出生日期:23\n",
      "我是zj，我今年20岁，我的生日是1月23号\n"
     ]
    }
   ],
   "source": [
    "# 导入 datetime 模块\n",
    "import datetime\n",
    "# 使用 date.today() 取得当前时间\n",
    "now = datetime.date.today()\n",
    "\n",
    "# 收集信息，并通过出生年份计算当前年纪\n",
    "name = input('请输入姓名') # 获取姓名\n",
    "year = now.year # 使用 year 属性取得年份\n",
    "\n",
    "\"\"\"\n",
    "判断输入年份是否是闰年\n",
    "输入：年份 -> int\n",
    "输出：是闰年->True，不是闰年->False\n",
    "\"\"\"\n",
    "def is_leap(year):\n",
    "    if year % 4 == 0 and year % 100 != 0 or year % 400 == 0:\n",
    "        return True\n",
    "    \n",
    "    \n",
    "while True: # 若输入错误则进行循环\n",
    "    print('请输入出生日期') \n",
    "    born_year = int(input('请输入出生年份:'))\n",
    "    born_month = int(input('请输入出生月份:'))\n",
    "    born_day = int(input('请输入出生日期:'))\n",
    "    \n",
    "    # 当输入的判断输入的日期符合常理，才进行打印\n",
    "    if is_leap(born_year) and born_month == 2 and born_day in (range(1,30)): # 闰年2月有可能在29号出生\n",
    "        print(f'我是{name}，我今年{year - born_year}岁，我的生日是{born_month}月{born_day}号')\n",
    "        break\n",
    "    elif not is_leap(born_year) and born_month == 2 and born_day in (range(1,29)): # 平年则只可能在1到28号出生\n",
    "        print(f'我是{name}，我今年{year - born_year}岁，我的生日是{born_month}月{born_day}号')\n",
    "        break\n",
    "    elif born_month in(1,3,5,7,8,10,12) and born_day in (range(1,32)) and born_year < year: # 在大月出生日期可能为1到31\n",
    "        print(f'我是{name}，我今年{year - born_year}岁，我的生日是{born_month}月{born_day}号')\n",
    "        break\n",
    "    elif born_month in(4,6,9,11) and born_day in (range(1,31)) and born_year < year:# 在小月出生日期为1到30\n",
    "        print(f'我是{name}，我今年{year - born_year}岁，我的生日是{born_month}月{born_day}号')\n",
    "        break\n",
    "    else:\n",
    "        print('数据错误，请重新输入')"
   ]
  },
  {
   "cell_type": "code",
   "execution_count": null,
   "id": "5303dc0b",
   "metadata": {},
   "outputs": [],
   "source": []
  }
 ],
 "metadata": {
  "kernelspec": {
   "display_name": "Python 3 (ipykernel)",
   "language": "python",
   "name": "python3"
  },
  "language_info": {
   "codemirror_mode": {
    "name": "ipython",
    "version": 3
   },
   "file_extension": ".py",
   "mimetype": "text/x-python",
   "name": "python",
   "nbconvert_exporter": "python",
   "pygments_lexer": "ipython3",
   "version": "3.10.9"
  }
 },
 "nbformat": 4,
 "nbformat_minor": 5
}
